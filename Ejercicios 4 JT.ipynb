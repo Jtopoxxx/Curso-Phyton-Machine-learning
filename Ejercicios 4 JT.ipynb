{
  "cells": [
    {
      "cell_type": "code",
      "execution_count": null,
      "metadata": {
        "id": "9jA5b6cdKJaS"
      },
      "outputs": [],
      "source": [
        "#1 Crear un programa de Python que simule el lanzamiento de dados.\n",
        "import random\n",
        "\n",
        "def lanzar_dados():\n",
        "    dado1 = random.randint(1, 6)\n",
        "    dado2 = random.randint(1, 6)\n",
        "    return dado1, dado2\n",
        "\n",
        "def main():\n",
        "    input(\"Presiona Enter para lanzar los dados...\")\n",
        "\n",
        "    dado1, dado2 = lanzar_dados()\n",
        "\n",
        "    print(f\"Resultado del dado 1: {dado1}\")\n",
        "    print(f\"Resultado del dado 2: {dado2}\")\n",
        "    print(f\"Suma total: {dado1 + dado2}\")\n",
        "\n",
        "if __name__ == \"__main__\":\n",
        "    main()\n"
      ]
    },
    {
      "cell_type": "code",
      "execution_count": null,
      "metadata": {},
      "outputs": [],
      "source": [
        "#2 uego  El programa debe permitir al usuario especificar el número de dados y el número de lanzamientos a simular.\n",
        "\n",
        "\n",
        "import random\n",
        "\n",
        "def lanzar_dados(num_dados):\n",
        "    return [random.randint(1, 6) for _ in range(num_dados)]\n",
        "\n",
        "def main():\n",
        "    try:\n",
        "        num_dados = int(input(\"Ingrese el número de dados a lanzar: \"))\n",
        "        num_lanzamientos = int(input(\"Ingrese el número de lanzamientos a simular: \"))\n",
        "\n",
        "        for lanzamiento in range(1, num_lanzamientos + 1):\n",
        "            resultados = lanzar_dados(num_dados)\n",
        "            print(f\"Lanzamiento {lanzamiento}: {resultados}\")\n",
        "\n",
        "    except ValueError:\n",
        "        print(\"Por favor, ingrese números enteros válidos.\")\n",
        "\n",
        "if __name__ == \"__main__\":\n",
        "    main()\n"
      ]
    },
    {
      "cell_type": "code",
      "execution_count": null,
      "metadata": {},
      "outputs": [],
      "source": [
        "#3 luego El código debe retornarle al usuario en pantalla el valor de cada uno de los dados lanzados en cada lanzamiento.\n",
        "import random\n",
        "\n",
        "def lanzar_dados(num_dados):\n",
        "    return [random.randint(1, 6) for _ in range(num_dados)]\n",
        "\n",
        "def main():\n",
        "    try:\n",
        "        num_dados = int(input(\"Ingrese el número de dados a lanzar: \"))\n",
        "        num_lanzamientos = int(input(\"Ingrese el número de lanzamientos a simular: \"))\n",
        "\n",
        "        for lanzamiento in range(1, num_lanzamientos + 1):\n",
        "            resultados = lanzar_dados(num_dados)\n",
        "            print(f\"Lanzamiento {lanzamiento}: {resultados}\")\n",
        "\n",
        "    except ValueError:\n",
        "        print(\"Por favor, ingrese números enteros válidos.\")\n",
        "\n",
        "if __name__ == \"__main__\":\n",
        "    main()\n"
      ]
    }
  ],
  "metadata": {
    "colab": {
      "provenance": []
    },
    "kernelspec": {
      "display_name": "Python 3",
      "name": "python3"
    },
    "language_info": {
      "name": "python"
    }
  },
  "nbformat": 4,
  "nbformat_minor": 0
}
