{
  "cells": [
    {
      "cell_type": "code",
      "execution_count": null,
      "metadata": {
        "id": "WMPglNtv9n9O"
      },
      "outputs": [],
      "source": [
        "# Solicitar al usuario que ingrese coordenadas de latitud y longitud\n",
        "latitud = float(input(\"Ingrese la latitud: \"))\n",
        "longitud = float(input(\"Ingrese la longitud: \"))\n",
        "\n",
        "# Formatear las coordenadas con dos cifras significativas\n",
        "coordenadas_formateadas = f\"Las coordenadas son {latitud:.2f} N, {abs(longitud):.2f} {'E' if longitud >= 0 else 'W'}\"\n",
        "\n",
        "# Imprimir el resultado\n",
        "print(coordenadas_formateadas)"
      ]
    },
    {
      "cell_type": "code",
      "execution_count": null,
      "metadata": {},
      "outputs": [],
      "source": [
        "# Solicitar al usuario que ingrese su nombre\n",
        "nombre = input(\"Ingrese su nombre: \")\n",
        "\n",
        "# Imprimir el mensaje de bienvenida\n",
        "mensaje_bienvenida = f\"Hola, {nombre}, bienvenido a Python.\"\n",
        "print(mensaje_bienvenida)\n"
      ]
    },
    {
      "cell_type": "code",
      "execution_count": null,
      "metadata": {},
      "outputs": [],
      "source": [
        "# Solicitar al usuario que ingrese la temperatura en grados Celsius\n",
        "celsius = float(input(\"Ingrese la temperatura en grados Celsius: \"))\n",
        "\n",
        "# Convertir la temperatura a grados Fahrenheit\n",
        "fahrenheit = (celsius * 9/5) + 32\n",
        "\n",
        "# Imprimir el resultado\n",
        "mensaje_resultado = f\"{celsius:.2f}°C es igual a {fahrenheit:.2f}°F.\"\n",
        "print(mensaje_resultado)\n"
      ]
    },
    {
      "cell_type": "code",
      "execution_count": null,
      "metadata": {},
      "outputs": [],
      "source": [
        "# Función para verificar si un número es primo\n",
        "def es_primo(numero):\n",
        "    if numero < 2:\n",
        "        return False\n",
        "    for i in range(2, int(numero**0.5) + 1):\n",
        "        if numero % i == 0:\n",
        "            return False\n",
        "    return True\n",
        "\n",
        "# Solicitar al usuario que ingrese un número\n",
        "try:\n",
        "    numero = int(input(\"Ingrese un número entero positivo: \"))\n",
        "    \n",
        "    # Verificar si el número es primo e imprimir el resultado\n",
        "    if es_primo(numero):\n",
        "        print(f\"{numero} es un número primo.\")\n",
        "    else:\n",
        "        print(f\"{numero} no es un número primo.\")\n",
        "except ValueError:\n",
        "    print(\"Por favor, ingrese un número entero válido.\")\n"
      ]
    }
  ],
  "metadata": {
    "colab": {
      "provenance": []
    },
    "kernelspec": {
      "display_name": "Python 3",
      "name": "python3"
    },
    "language_info": {
      "name": "python"
    }
  },
  "nbformat": 4,
  "nbformat_minor": 0
}
