{
  "cells": [
    {
      "cell_type": "code",
      "execution_count": null,
      "metadata": {
        "id": "9jA5b6cdKJaS"
      },
      "outputs": [],
      "source": [
        "#1 importamos las librerias necesarias\n",
        "import pandas as pd\n",
        "import seaborn as sns\n",
        "import matplotlib.pyplot as plt\n"
      ]
    },
    {
      "cell_type": "code",
      "execution_count": null,
      "metadata": {},
      "outputs": [],
      "source": [
        "# Cargar el conjunto de datos \n",
        "df = pd.read_csv('datos.csv')"
      ]
    },
    {
      "cell_type": "code",
      "execution_count": null,
      "metadata": {},
      "outputs": [],
      "source": [
        "# Mostrar las primeras 10 filas y las últimas 10 filas\n",
        "print(\"Primeras 10 filas:\")\n",
        "print(df.head(10))\n",
        "print(\"\\nÚltimas 10 filas:\")\n",
        "print(df.tail(10))"
      ]
    },
    {
      "cell_type": "code",
      "execution_count": null,
      "metadata": {},
      "outputs": [],
      "source": [
        "# Identificar y manejar valores faltantes o nulos\n",
        "# Por ejemplo, rellenar los valores faltantes con la media de la columna\n",
        "df.fillna(df.mean(), inplace=True)\n"
      ]
    },
    {
      "cell_type": "code",
      "execution_count": null,
      "metadata": {},
      "outputs": [],
      "source": [
        "# Generar una visualización que muestre las principales medidas estadísticas de cada columna\n",
        "print(\"\\nMedidas estadísticas:\")\n",
        "print(df.describe())"
      ]
    },
    {
      "cell_type": "code",
      "execution_count": null,
      "metadata": {},
      "outputs": [],
      "source": [
        "# Realizar un pequeño análisis estadístico\n",
        "# Por ejemplo, ver la correlación entre las variables\n",
        "correlation_matrix = df.corr()\n",
        "print(\"\\nMatriz de correlación:\")\n",
        "print(correlation_matrix)"
      ]
    },
    {
      "cell_type": "code",
      "execution_count": null,
      "metadata": {},
      "outputs": [],
      "source": [
        "# Crear gráficos que muestren una visión interesante de los datos\n",
        "# Por ejemplo, el número de juegos por género\n",
        "plt.figure(figsize=(10, 6))\n",
        "sns.countplot(x='genre', data=df)\n",
        "plt.title('Número de juegos por género')\n",
        "plt.xlabel('Género')\n",
        "plt.ylabel('Número de juegos')\n",
        "plt.xticks(rotation=45)\n",
        "plt.show()"
      ]
    },
    {
      "cell_type": "code",
      "execution_count": null,
      "metadata": {},
      "outputs": [],
      "source": [
        "# Otra posible visualización, la relación entre la densidad de las rocas y su edad\n",
        "plt.figure(figsize=(10, 6))\n",
        "sns.scatterplot(x='rock_density', y='rock_age', data=df)\n",
        "plt.title('Relación entre densidad de rocas y edad')\n",
        "plt.xlabel('Densidad de rocas')\n",
        "plt.ylabel('Edad de rocas')\n",
        "plt.show()"
      ]
    }
  ],
  "metadata": {
    "colab": {
      "provenance": []
    },
    "kernelspec": {
      "display_name": "Python 3",
      "name": "python3"
    },
    "language_info": {
      "name": "python"
    }
  },
  "nbformat": 4,
  "nbformat_minor": 0
}
